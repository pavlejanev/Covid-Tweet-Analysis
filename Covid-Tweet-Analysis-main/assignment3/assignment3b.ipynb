{
 "cells": [
  {
   "cell_type": "code",
   "metadata": {},
   "source": [
    "from sklearn import datasets\n",
    "from sklearn import tree\n",
    "from sklearn.tree import DecisionTreeClassifier\n",
    "from sklearn.model_selection import train_test_split\n",
    "from sklearn.metrics import accuracy_score\n",
    "import numpy as np\n",
    "import pandas as pd\n",
    "from sklearn.naive_bayes import MultinomialNB\n",
    "\n",
    "\n",
    "# https://archive.ics.uci.edu/ml/datasets/Breast+Cancer+Coimbra\n",
    "# https://machinelearningmastery.com/tutorial-to-implement-k-nearest-neighbors-in-python-from-scratch/\n",
    "\"\"\"This notebook describes the Naive Bayes function in relation to Covid Tweets created in the last year. We will be comparing Covid tweets and the overall sentiment the tweet is in.\n",
    "I have used the Bag of words expression in relation to both CNB and MNB , I have additionally experimented with a tfid vectorizer with a linear SVC.\n",
    "Pavle Janev 217127556, York University, 2024\"\"\""
   ],
   "outputs": [],
   "execution_count": null
  },
  {
   "cell_type": "code",
   "execution_count": 460,
   "metadata": {},
   "outputs": [
    {
     "data": {
      "text/html": [
       "<div>\n",
       "<style scoped>\n",
       "    .dataframe tbody tr th:only-of-type {\n",
       "        vertical-align: middle;\n",
       "    }\n",
       "\n",
       "    .dataframe tbody tr th {\n",
       "        vertical-align: top;\n",
       "    }\n",
       "\n",
       "    .dataframe thead th {\n",
       "        text-align: right;\n",
       "    }\n",
       "</style>\n",
       "<table border=\"1\" class=\"dataframe\">\n",
       "  <thead>\n",
       "    <tr style=\"text-align: right;\">\n",
       "      <th></th>\n",
       "      <th>UserName</th>\n",
       "      <th>ScreenName</th>\n",
       "      <th>Location</th>\n",
       "      <th>TweetAt</th>\n",
       "      <th>OriginalTweet</th>\n",
       "      <th>Sentiment</th>\n",
       "    </tr>\n",
       "  </thead>\n",
       "  <tbody>\n",
       "    <tr>\n",
       "      <th>0</th>\n",
       "      <td>3799</td>\n",
       "      <td>48751</td>\n",
       "      <td>London</td>\n",
       "      <td>16-03-2020</td>\n",
       "      <td>@MeNyrbie @Phil_Gahan @Chrisitv https://t.co/i...</td>\n",
       "      <td>Neutral</td>\n",
       "    </tr>\n",
       "    <tr>\n",
       "      <th>1</th>\n",
       "      <td>3800</td>\n",
       "      <td>48752</td>\n",
       "      <td>UK</td>\n",
       "      <td>16-03-2020</td>\n",
       "      <td>advice Talk to your neighbours family to excha...</td>\n",
       "      <td>Positive</td>\n",
       "    </tr>\n",
       "    <tr>\n",
       "      <th>2</th>\n",
       "      <td>3801</td>\n",
       "      <td>48753</td>\n",
       "      <td>Vagabonds</td>\n",
       "      <td>16-03-2020</td>\n",
       "      <td>Coronavirus Australia: Woolworths to give elde...</td>\n",
       "      <td>Positive</td>\n",
       "    </tr>\n",
       "    <tr>\n",
       "      <th>3</th>\n",
       "      <td>3802</td>\n",
       "      <td>48754</td>\n",
       "      <td>NaN</td>\n",
       "      <td>16-03-2020</td>\n",
       "      <td>My food stock is not the only one which is emp...</td>\n",
       "      <td>Positive</td>\n",
       "    </tr>\n",
       "    <tr>\n",
       "      <th>4</th>\n",
       "      <td>3803</td>\n",
       "      <td>48755</td>\n",
       "      <td>NaN</td>\n",
       "      <td>16-03-2020</td>\n",
       "      <td>Me, ready to go at supermarket during the #COV...</td>\n",
       "      <td>Extremely Negative</td>\n",
       "    </tr>\n",
       "  </tbody>\n",
       "</table>\n",
       "</div>"
      ],
      "text/plain": [
       "   UserName  ScreenName   Location     TweetAt  \\\n",
       "0      3799       48751     London  16-03-2020   \n",
       "1      3800       48752         UK  16-03-2020   \n",
       "2      3801       48753  Vagabonds  16-03-2020   \n",
       "3      3802       48754        NaN  16-03-2020   \n",
       "4      3803       48755        NaN  16-03-2020   \n",
       "\n",
       "                                       OriginalTweet           Sentiment  \n",
       "0  @MeNyrbie @Phil_Gahan @Chrisitv https://t.co/i...             Neutral  \n",
       "1  advice Talk to your neighbours family to excha...            Positive  \n",
       "2  Coronavirus Australia: Woolworths to give elde...            Positive  \n",
       "3  My food stock is not the only one which is emp...            Positive  \n",
       "4  Me, ready to go at supermarket during the #COV...  Extremely Negative  "
      ]
     },
     "execution_count": 460,
     "metadata": {},
     "output_type": "execute_result"
    }
   ],
   "source": [
    "df = pd.read_csv('Corona_NLP_train.csv')\n",
    "df.head()\n"
   ]
  },
  {
   "cell_type": "code",
   "execution_count": 461,
   "metadata": {},
   "outputs": [],
   "source": [
    "def drop(p):\n",
    "    p.drop([\"UserName\",\"ScreenName\",\"Location\",\"TweetAt\"],axis=1,inplace=True)\n",
    "\n",
    "drop(df)\n"
   ]
  },
  {
   "cell_type": "code",
   "execution_count": 462,
   "metadata": {},
   "outputs": [
    {
     "data": {
      "text/html": [
       "<div>\n",
       "<style scoped>\n",
       "    .dataframe tbody tr th:only-of-type {\n",
       "        vertical-align: middle;\n",
       "    }\n",
       "\n",
       "    .dataframe tbody tr th {\n",
       "        vertical-align: top;\n",
       "    }\n",
       "\n",
       "    .dataframe thead th {\n",
       "        text-align: right;\n",
       "    }\n",
       "</style>\n",
       "<table border=\"1\" class=\"dataframe\">\n",
       "  <thead>\n",
       "    <tr style=\"text-align: right;\">\n",
       "      <th></th>\n",
       "      <th>OriginalTweet</th>\n",
       "      <th>Sentiment</th>\n",
       "    </tr>\n",
       "  </thead>\n",
       "  <tbody>\n",
       "    <tr>\n",
       "      <th>0</th>\n",
       "      <td>@MeNyrbie @Phil_Gahan @Chrisitv https://t.co/i...</td>\n",
       "      <td>Neutral</td>\n",
       "    </tr>\n",
       "    <tr>\n",
       "      <th>1</th>\n",
       "      <td>advice Talk to your neighbours family to excha...</td>\n",
       "      <td>Positive</td>\n",
       "    </tr>\n",
       "    <tr>\n",
       "      <th>2</th>\n",
       "      <td>Coronavirus Australia: Woolworths to give elde...</td>\n",
       "      <td>Positive</td>\n",
       "    </tr>\n",
       "    <tr>\n",
       "      <th>3</th>\n",
       "      <td>My food stock is not the only one which is emp...</td>\n",
       "      <td>Positive</td>\n",
       "    </tr>\n",
       "    <tr>\n",
       "      <th>4</th>\n",
       "      <td>Me, ready to go at supermarket during the #COV...</td>\n",
       "      <td>Extremely Negative</td>\n",
       "    </tr>\n",
       "  </tbody>\n",
       "</table>\n",
       "</div>"
      ],
      "text/plain": [
       "                                       OriginalTweet           Sentiment\n",
       "0  @MeNyrbie @Phil_Gahan @Chrisitv https://t.co/i...             Neutral\n",
       "1  advice Talk to your neighbours family to excha...            Positive\n",
       "2  Coronavirus Australia: Woolworths to give elde...            Positive\n",
       "3  My food stock is not the only one which is emp...            Positive\n",
       "4  Me, ready to go at supermarket during the #COV...  Extremely Negative"
      ]
     },
     "execution_count": 462,
     "metadata": {},
     "output_type": "execute_result"
    }
   ],
   "source": [
    "df.head()"
   ]
  },
  {
   "cell_type": "code",
   "execution_count": 463,
   "metadata": {},
   "outputs": [],
   "source": [
    "df[\"Sentiment\"].value_counts()\n",
    "convert_to_digits={\"Sentiment\":{'Positive':3,'Negative':1,\"Neutral\":2,\"Extremely Positive\":4,\"Extremely Negative\":0}}\n",
    "df.replace(convert_to_digits,inplace=True)\n",
    " "
   ]
  },
  {
   "cell_type": "code",
   "execution_count": 464,
   "metadata": {},
   "outputs": [
    {
     "data": {
      "text/plain": [
       "CountVectorizer()"
      ]
     },
     "execution_count": 464,
     "metadata": {},
     "output_type": "execute_result"
    }
   ],
   "source": [
    "from sklearn.feature_extraction.text import CountVectorizer\n",
    "\n",
    "# https://scikit-learn.org/stable/modules/generated/sklearn.feature_extraction.text.CountVectorizer.html?highlight=countvectorizer#sklearn.feature_extraction.text.CountVectorizer\n",
    "c_vectorizer = CountVectorizer()   # bag of words \n",
    "c_vectorizer"
   ]
  },
  {
   "cell_type": "code",
   "execution_count": 465,
   "metadata": {},
   "outputs": [],
   "source": [
    "X = df['OriginalTweet']\n",
    "\n",
    "y = df['Sentiment']"
   ]
  },
  {
   "cell_type": "code",
   "execution_count": 466,
   "metadata": {},
   "outputs": [],
   "source": [
    "X_train, X_test, y_train, y_test = train_test_split(X, y, test_size = 0.6, random_state=30)"
   ]
  },
  {
   "cell_type": "code",
   "execution_count": 467,
   "metadata": {},
   "outputs": [],
   "source": [
    "mnb_model = MultinomialNB()"
   ]
  },
  {
   "cell_type": "code",
   "execution_count": 468,
   "metadata": {},
   "outputs": [
    {
     "data": {
      "text/plain": [
       "Pipeline(steps=[('vectorizer', CountVectorizer()),\n",
       "                ('classifier', MultinomialNB())])"
      ]
     },
     "execution_count": 468,
     "metadata": {},
     "output_type": "execute_result"
    }
   ],
   "source": [
    "from sklearn.pipeline import Pipeline\n",
    "\n",
    "# https://scikit-learn.org/stable/modules/generated/sklearn.pipeline.Pipeline.html\n",
    "\n",
    "v_mnb_model = Pipeline(steps=[('vectorizer', c_vectorizer), ('classifier', mnb_model)])\n",
    "\n",
    "v_mnb_model"
   ]
  },
  {
   "cell_type": "code",
   "execution_count": 469,
   "metadata": {},
   "outputs": [
    {
     "data": {
      "text/plain": [
       "Pipeline(steps=[('vectorizer', CountVectorizer()),\n",
       "                ('classifier', MultinomialNB())])"
      ]
     },
     "execution_count": 469,
     "metadata": {},
     "output_type": "execute_result"
    }
   ],
   "source": [
    "v_mnb_model.fit(X_train, y_train)      "
   ]
  },
  {
   "cell_type": "code",
   "execution_count": 470,
   "metadata": {},
   "outputs": [
    {
     "data": {
      "text/plain": [
       "0.43478436930552744"
      ]
     },
     "execution_count": 470,
     "metadata": {},
     "output_type": "execute_result"
    }
   ],
   "source": [
    "v_mnb_model.score(X_test, y_test)\n"
   ]
  },
  {
   "cell_type": "code",
   "execution_count": 471,
   "metadata": {},
   "outputs": [
    {
     "data": {
      "text/plain": [
       "0.43478436930552744"
      ]
     },
     "execution_count": 471,
     "metadata": {},
     "output_type": "execute_result"
    }
   ],
   "source": [
    "from sklearn.metrics import accuracy_score\n",
    "predictions = v_mnb_model.predict(X_test)\n",
    "accuracy_score(y_test,predictions)"
   ]
  },
  {
   "cell_type": "code",
   "execution_count": 472,
   "metadata": {},
   "outputs": [],
   "source": [
    "from sklearn.naive_bayes import ComplementNB\n",
    "cnb_model = ComplementNB()"
   ]
  },
  {
   "cell_type": "code",
   "execution_count": 473,
   "metadata": {},
   "outputs": [
    {
     "data": {
      "text/plain": [
       "Pipeline(steps=[('vectorizer', CountVectorizer()),\n",
       "                ('classifier', ComplementNB())])"
      ]
     },
     "execution_count": 473,
     "metadata": {},
     "output_type": "execute_result"
    }
   ],
   "source": [
    "v_cnb_model = Pipeline(steps=[('vectorizer', c_vectorizer), ('classifier', cnb_model)])\n",
    "\n",
    "v_cnb_model"
   ]
  },
  {
   "cell_type": "code",
   "execution_count": 474,
   "metadata": {},
   "outputs": [
    {
     "data": {
      "text/plain": [
       "0.9029887012513668"
      ]
     },
     "execution_count": 474,
     "metadata": {},
     "output_type": "execute_result"
    }
   ],
   "source": [
    "v_cnb_model.fit(X_train, y_train) \n",
    "v_cnb_model.score(X_train,y_train)"
   ]
  },
  {
   "cell_type": "code",
   "execution_count": 475,
   "metadata": {},
   "outputs": [
    {
     "data": {
      "text/plain": [
       "0.44389552541000205"
      ]
     },
     "execution_count": 475,
     "metadata": {},
     "output_type": "execute_result"
    }
   ],
   "source": [
    "from sklearn.metrics import accuracy_score\n",
    "predictions_cnb = v_cnb_model.predict(X_test)\n",
    "accuracy_score(y_test,predictions_cnb)"
   ]
  },
  {
   "cell_type": "markdown",
   "metadata": {},
   "source": [
    "Testing Bag of Words Vectorizor with both MNB and CNB options"
   ]
  },
  {
   "cell_type": "code",
   "execution_count": 476,
   "metadata": {},
   "outputs": [
    {
     "name": "stdout",
     "output_type": "stream",
     "text": [
      "This tweet is negative!\n",
      "[1]\n"
     ]
    }
   ],
   "source": [
    "text = ['Not because Im paranoid, but because my food stock is litteraly empty. The coronavirus is a serious thing, but please, dont panic. It causes shortage...']\n",
    "predictions = v_mnb_model.predict(text)\n",
    "if predictions == 0:\n",
    "    print('This tweet is extremely negative')\n",
    "elif predictions == 1:\n",
    "    print('This tweet is negative!')\n",
    "elif predictions == 2:\n",
    "    print('This tweet is neutral.')\n",
    "elif predictions == 3:\n",
    "    print('This tweet is positive!')\n",
    "elif predictions == 4:\n",
    "    print('This tweet is super positive!')\n",
    "else:\n",
    "    print(\"I am a little unsure what this could be?\")\n",
    "\n",
    "print(predictions)\n"
   ]
  },
  {
   "cell_type": "code",
   "execution_count": 477,
   "metadata": {},
   "outputs": [
    {
     "name": "stdout",
     "output_type": "stream",
     "text": [
      "This tweet is extremely negative\n",
      "[0]\n"
     ]
    }
   ],
   "source": [
    "text = ['Not because Im paranoid, but because my food stock is litteraly empty. The coronavirus is a serious thing, but please, dont panic. It causes shortage...']\n",
    "predictions_cnb = v_cnb_model.predict(text)\n",
    "if predictions_cnb == 0:\n",
    "    print('This tweet is extremely negative')\n",
    "elif predictions_cnb == 1:\n",
    "    print('This tweet is negative!')\n",
    "elif predictions_cnb == 2:\n",
    "    print('This tweet is neutral.')\n",
    "elif predictions_cnb == 3:\n",
    "    print('This tweet is positive!')\n",
    "elif predictions_cnb == 4:\n",
    "    print('This tweet is super positive!')\n",
    "else:\n",
    "    print(\"I am a little unsure what this could be?\")\n",
    "\n",
    "print(predictions_cnb)\n"
   ]
  },
  {
   "cell_type": "code",
   "execution_count": 478,
   "metadata": {},
   "outputs": [
    {
     "name": "stdout",
     "output_type": "stream",
     "text": [
      "This tweet is negative!\n",
      "[1]\n"
     ]
    }
   ],
   "source": [
    "text = ['Looking very negative']\n",
    "predictions = v_mnb_model.predict(text)\n",
    "if predictions == 0:\n",
    "    print('This tweet is extremely negative')\n",
    "elif predictions == 1:\n",
    "    print('This tweet is negative!')\n",
    "elif predictions == 2:\n",
    "    print('This tweet is neutral.')\n",
    "elif predictions == 3:\n",
    "    print('This tweet is positive!')\n",
    "elif predictions == 4:\n",
    "    print('This tweet is super positive!')\n",
    "else:\n",
    "    print(\"I am a little unsure what this could be?\")\n",
    "\n",
    "print(predictions)\n"
   ]
  },
  {
   "cell_type": "code",
   "execution_count": 479,
   "metadata": {},
   "outputs": [
    {
     "name": "stdout",
     "output_type": "stream",
     "text": [
      "This tweet is extremely negative\n",
      "[0]\n"
     ]
    }
   ],
   "source": [
    "text = ['Looking very negative']\n",
    "predictions_cnb = v_cnb_model.predict(text)\n",
    "if predictions_cnb == 0:\n",
    "    print('This tweet is extremely negative')\n",
    "elif predictions_cnb == 1:\n",
    "    print('This tweet is negative!')\n",
    "elif predictions_cnb == 2:\n",
    "    print('This tweet is neutral.')\n",
    "elif predictions_cnb == 3:\n",
    "    print('This tweet is positive!')\n",
    "elif predictions_cnb == 4:\n",
    "    print('This tweet is super positive!')\n",
    "else:\n",
    "    print(\"I am a little unsure what this could be?\")\n",
    "\n",
    "print(predictions_cnb)\n"
   ]
  },
  {
   "cell_type": "code",
   "execution_count": 480,
   "metadata": {},
   "outputs": [
    {
     "name": "stdout",
     "output_type": "stream",
     "text": [
      "This tweet is super positive!\n",
      "[4]\n"
     ]
    }
   ],
   "source": [
    "text = ['I think covid will be over soon, we will then be very happy!']\n",
    "predictions = v_mnb_model.predict(text)\n",
    "if predictions == 0:\n",
    "    print('This tweet is extremely negative')\n",
    "elif predictions == 1:\n",
    "    print('This tweet is negative!')\n",
    "elif predictions == 2:\n",
    "    print('This tweet is neutral.')\n",
    "elif predictions == 3:\n",
    "    print('This tweet is positive!')\n",
    "elif predictions == 4:\n",
    "    print('This tweet is super positive!')\n",
    "else:\n",
    "    print(\"I am a little unsure what this could be?\")\n",
    "\n",
    "print(predictions)\n"
   ]
  },
  {
   "cell_type": "code",
   "execution_count": 481,
   "metadata": {},
   "outputs": [
    {
     "name": "stdout",
     "output_type": "stream",
     "text": [
      "This tweet is super positive!\n",
      "[4]\n"
     ]
    }
   ],
   "source": [
    "text = ['I think covid will be over soon, we will then be very happy!']\n",
    "predictions_cnb = v_cnb_model.predict(text)\n",
    "if predictions_cnb == 0:\n",
    "    print('This tweet is extremely negative')\n",
    "elif predictions_cnb == 1:\n",
    "    print('This tweet is negative!')\n",
    "elif predictions_cnb == 2:\n",
    "    print('This tweet is neutral.')\n",
    "elif predictions_cnb == 3:\n",
    "    print('This tweet is positive!')\n",
    "elif predictions_cnb == 4:\n",
    "    print('This tweet is super positive!')\n",
    "else:\n",
    "    print(\"I am a little unsure what this could be?\")\n",
    "\n",
    "print(predictions_cnb)\n"
   ]
  },
  {
   "cell_type": "code",
   "execution_count": 482,
   "metadata": {},
   "outputs": [
    {
     "name": "stdout",
     "output_type": "stream",
     "text": [
      "This tweet is extremely negative\n",
      "[0]\n"
     ]
    }
   ],
   "source": [
    "\n",
    "text = ['Covid bad']\n",
    "predictions = v_mnb_model.predict(text)\n",
    "if predictions == 0:\n",
    "    print('This tweet is extremely negative')\n",
    "elif predictions == 1:\n",
    "    print('This tweet is negative!')\n",
    "elif predictions == 2:\n",
    "    print('This tweet is neutral.')\n",
    "elif predictions == 3:\n",
    "    print('This tweet is positive!')\n",
    "elif predictions == 1:\n",
    "    print('This tweet is super positive!')\n",
    "else:\n",
    "    print(\"I am a little unsure what this could be?\")\n",
    "\n",
    "print(predictions)"
   ]
  },
  {
   "cell_type": "code",
   "execution_count": 483,
   "metadata": {},
   "outputs": [
    {
     "name": "stdout",
     "output_type": "stream",
     "text": [
      "This tweet is extremely negative\n",
      "[0]\n"
     ]
    }
   ],
   "source": [
    "text = ['Covid bad']\n",
    "predictions_cnb = v_cnb_model.predict(text)\n",
    "if predictions_cnb == 0:\n",
    "    print('This tweet is extremely negative')\n",
    "elif predictions_cnb == 1:\n",
    "    print('This tweet is negative!')\n",
    "elif predictions_cnb == 2:\n",
    "    print('This tweet is neutral.')\n",
    "elif predictions_cnb == 3:\n",
    "    print('This tweet is positive!')\n",
    "elif predictions_cnb == 4:\n",
    "    print('This tweet is super positive!')\n",
    "else:\n",
    "    print(\"I am a little unsure what this could be?\")\n",
    "\n",
    "print(predictions_cnb)"
   ]
  },
  {
   "cell_type": "code",
   "execution_count": 484,
   "metadata": {},
   "outputs": [
    {
     "name": "stdout",
     "output_type": "stream",
     "text": [
      "This tweet is negative!\n",
      "[1]\n"
     ]
    }
   ],
   "source": [
    "\n",
    "text = ['What is the deal with airline food? I mean it really sucks!']\n",
    "predictions = v_mnb_model.predict(text)\n",
    "if predictions == 0:\n",
    "    print('This tweet is extremely negative')\n",
    "elif predictions == 1:\n",
    "    print('This tweet is negative!')\n",
    "elif predictions == 2:\n",
    "    print('This tweet is neutral.')\n",
    "elif predictions == 3:\n",
    "    print('This tweet is positive!')\n",
    "elif predictions == 1:\n",
    "    print('This tweet is super positive!')\n",
    "else:\n",
    "    print(\"I am a little unsure what this could be?\")\n",
    "\n",
    "print(predictions)"
   ]
  },
  {
   "cell_type": "code",
   "execution_count": 485,
   "metadata": {},
   "outputs": [
    {
     "name": "stdout",
     "output_type": "stream",
     "text": [
      "This tweet is extremely negative\n",
      "[0]\n"
     ]
    }
   ],
   "source": [
    "text = ['What is the deal with airline food? I mean it really sucks!']\n",
    "predictions = v_cnb_model.predict(text)\n",
    "if predictions == 0:\n",
    "    print('This tweet is extremely negative')\n",
    "elif predictions == 1:\n",
    "    print('This tweet is negative!')\n",
    "elif predictions == 2:\n",
    "    print('This tweet is neutral.')\n",
    "elif predictions == 3:\n",
    "    print('This tweet is positive!')\n",
    "elif predictions == 1:\n",
    "    print('This tweet is super positive!')\n",
    "else:\n",
    "    print(\"I am a little unsure what this could be?\")\n",
    "\n",
    "print(predictions_cnb)"
   ]
  },
  {
   "cell_type": "markdown",
   "metadata": {},
   "source": [
    "TFID Vectorizor with a Linear SVC module"
   ]
  },
  {
   "cell_type": "code",
   "execution_count": 486,
   "metadata": {},
   "outputs": [
    {
     "data": {
      "text/plain": [
       "Pipeline(steps=[('tfidf', TfidfVectorizer()), ('svm', LinearSVC())])"
      ]
     },
     "execution_count": 486,
     "metadata": {},
     "output_type": "execute_result"
    }
   ],
   "source": [
    "from sklearn.feature_extraction.text import TfidfVectorizer\n",
    "from sklearn.svm import LinearSVC\n",
    "v_mnb_tfid_linear = Pipeline([('tfidf',TfidfVectorizer()),('svm',LinearSVC())])\n",
    "\n",
    "v_mnb_tfid_linear"
   ]
  },
  {
   "cell_type": "code",
   "execution_count": 487,
   "metadata": {},
   "outputs": [
    {
     "data": {
      "text/plain": [
       "0.9835985906937189"
      ]
     },
     "execution_count": 487,
     "metadata": {},
     "output_type": "execute_result"
    }
   ],
   "source": [
    "v_mnb_tfid_linear.fit(X_train, y_train) \n",
    "v_mnb_tfid_linear.score(X_train,y_train)"
   ]
  },
  {
   "cell_type": "code",
   "execution_count": 488,
   "metadata": {},
   "outputs": [
    {
     "data": {
      "text/plain": [
       "0.5228588783154484"
      ]
     },
     "execution_count": 488,
     "metadata": {},
     "output_type": "execute_result"
    }
   ],
   "source": [
    "predictions_tfid = v_mnb_tfid_linear.predict(X_test)\n",
    "accuracy_score(y_test,predictions_tfid)"
   ]
  },
  {
   "cell_type": "code",
   "execution_count": 489,
   "metadata": {},
   "outputs": [
    {
     "name": "stdout",
     "output_type": "stream",
     "text": [
      "This tweet is neutral.\n",
      "[2]\n"
     ]
    }
   ],
   "source": [
    "text = ['Joe Biden has to be responsible for Covid-19 if he only gives me $400 for a stimulus check! ']\n",
    "predictions = v_mnb_tfid_linear.predict(text)\n",
    "if predictions == 0:\n",
    "    print('This tweet is extremely negative')\n",
    "elif predictions == 1:\n",
    "    print('This tweet is negative!')\n",
    "elif predictions == 2:\n",
    "    print('This tweet is neutral.')\n",
    "elif predictions == 3:\n",
    "    print('This tweet is positive!')\n",
    "elif predictions == 1:\n",
    "    print('This tweet is super positive!')\n",
    "else:\n",
    "    print(\"I am a little unsure what this could be?\")\n",
    "\n",
    "print(predictions)"
   ]
  },
  {
   "cell_type": "code",
   "execution_count": 490,
   "metadata": {},
   "outputs": [
    {
     "name": "stdout",
     "output_type": "stream",
     "text": [
      "This tweet is neutral.\n",
      "[2]\n"
     ]
    }
   ],
   "source": [
    "text = ['Joe Biden has to be responsible for Covid-19 if he only gives me $400 for a stimulus check! ']\n",
    "predictions = v_mnb_tfid_linear.predict(text)\n",
    "if predictions == 0:\n",
    "    print('This tweet is extremely negative')\n",
    "elif predictions == 1:\n",
    "    print('This tweet is negative!')\n",
    "elif predictions == 2:\n",
    "    print('This tweet is neutral.')\n",
    "elif predictions == 3:\n",
    "    print('This tweet is positive!')\n",
    "elif predictions == 1:\n",
    "    print('This tweet is super positive!')\n",
    "else:\n",
    "    print(\"I am a little unsure what this could be?\")\n",
    "\n",
    "print(predictions)"
   ]
  },
  {
   "cell_type": "code",
   "execution_count": 491,
   "metadata": {},
   "outputs": [
    {
     "name": "stdout",
     "output_type": "stream",
     "text": [
      "This tweet is extremely negative\n",
      "[0]\n"
     ]
    }
   ],
   "source": [
    "text = ['housing rentals have become so damn expensive because of the stupid property owners! I hate them all extremely! ']\n",
    "predictions = v_mnb_tfid_linear.predict(text)\n",
    "if predictions == 0:\n",
    "    print('This tweet is extremely negative')\n",
    "elif predictions == 1:\n",
    "    print('This tweet is negative!')\n",
    "elif predictions == 2:\n",
    "    print('This tweet is neutral.')\n",
    "elif predictions == 3:\n",
    "    print('This tweet is positive!')\n",
    "elif predictions == 1:\n",
    "    print('This tweet is super positive!')\n",
    "else:\n",
    "    print(\"I am a little unsure what this could be?\")\n",
    "\n",
    "print(predictions)"
   ]
  }
 ],
 "metadata": {
  "interpreter": {
   "hash": "00a254706c324a16f46d375a321c846bb97badd239e78434abd008da1a821ad2"
  },
  "kernelspec": {
   "display_name": "Python 3.9.7 ('base')",
   "language": "python",
   "name": "python3"
  },
  "language_info": {
   "codemirror_mode": {
    "name": "ipython",
    "version": 3
   },
   "file_extension": ".py",
   "mimetype": "text/x-python",
   "name": "python",
   "nbconvert_exporter": "python",
   "pygments_lexer": "ipython3",
   "version": "3.9.7"
  },
  "orig_nbformat": 4
 },
 "nbformat": 4,
 "nbformat_minor": 2
}
